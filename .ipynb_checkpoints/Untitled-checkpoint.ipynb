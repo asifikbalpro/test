{
 "cells": [
  {
   "cell_type": "code",
   "execution_count": 1,
   "id": "434b4464",
   "metadata": {},
   "outputs": [],
   "source": [
    "import requests\n",
    "import json\n",
    "from bs4 import BeautifulSoup\n",
    "from selenium import webdriver\n",
    "from selenium.webdriver.chrome.service import Service\n",
    "from selenium.webdriver.chrome.options import Options\n",
    "from selenium.webdriver.common.by import By\n",
    "import pandas as pd\n",
    "import requests\n",
    "from urllib.parse import urljoin\n",
    "import time\n",
    "from datetime import datetime\n",
    "import re\n",
    "from PIL import Image\n",
    "from io import BytesIO"
   ]
  },
  {
   "cell_type": "code",
   "execution_count": 33,
   "id": "03de21cb",
   "metadata": {},
   "outputs": [],
   "source": [
    "base_url = \"https://www.faz.net/suche/?query=bangladesh\""
   ]
  },
  {
   "cell_type": "code",
   "execution_count": 34,
   "id": "28bc3dd4",
   "metadata": {},
   "outputs": [],
   "source": [
    "def get_soup(url):\n",
    "    chrome_options = Options()\n",
    "    chrome_options.add_argument(\"--headless\")\n",
    "    try:\n",
    "        with webdriver.Chrome(options=chrome_options) as driver:\n",
    "            driver.get(url)\n",
    "            soup = BeautifulSoup(driver.page_source, 'html.parser')\n",
    "            return soup\n",
    "    except Exception as e:\n",
    "        print(f\"An error occurred: {e}\")"
   ]
  },
  {
   "cell_type": "code",
   "execution_count": 35,
   "id": "8ef5d550",
   "metadata": {},
   "outputs": [],
   "source": [
    "soup = get_soup(base_url)"
   ]
  },
  {
   "cell_type": "code",
   "execution_count": 48,
   "id": "ef59b53b",
   "metadata": {},
   "outputs": [
    {
     "name": "stdout",
     "output_type": "stream",
     "text": [
      "https://www.faz.net/suche/sheik-hasina-sie-regiert-bangladesch-mit-eiserner-faust-19433261.html\n",
      "not\n",
      "not\n",
      "not\n",
      "https://www.faz.net/suche/manipulationsvorwuerfe-nach-wahl-in-bangladesch-19433045.html\n",
      "not\n",
      "not\n",
      "not\n",
      "https://www.faz.net/suche/bangladesch-regierungschefin-hasina-festigt-ihre-macht-19432479.html\n",
      "not\n",
      "not\n",
      "https://www.faz.net/suche/schuesse-und-brandanschlaege-begleiten-wahl-in-bangladesch-19431494.html\n",
      "not\n",
      "not\n",
      "not\n",
      "https://www.faz.net/suche/bangladesch-militaer-soll-proteste-anlaesslich-der-wahl-verhindern-19425566.html\n",
      "not\n",
      "not\n",
      "not\n",
      "https://www.faz.net/suche/bangladesch-ministerpraesidentin-stellt-konkurrenz-vor-wahl-kalt-19421637.html\n",
      "not\n",
      "not\n",
      "not\n",
      "https://www.faz.net/suche/bangladesh-haftstrafe-fuer-nobelpreistraeger-muhammed-yunus-19421065.html\n",
      "not\n",
      "https://www.faz.net/suche/gewalt-eskaliert-vor-der-wahl-in-bangladesch-19286120.html\n",
      "not\n",
      "not\n",
      "not\n",
      "https://www.faz.net/premiumContent?contentId=1.8975185\n",
      "not\n",
      "not\n",
      "https://www.faz.net/premiumContent?contentId=1.8910828\n",
      "not\n",
      "not\n",
      "not\n",
      "https://www.faz.net/premiumContent?contentId=1.8841916\n",
      "not\n",
      "not\n",
      "https://www.faz.net/premiumContent?contentId=1.8750839\n",
      "not\n",
      "not\n",
      "not\n",
      "https://www.faz.net/premiumContent?contentId=1.8730729\n",
      "not\n",
      "not\n",
      "not\n",
      "https://www.faz.net/premiumContent?contentId=1.8565741\n",
      "not\n",
      "not\n",
      "not\n",
      "https://www.faz.net/suche/teures-benzin-und-hungerloehne-bangladeschs-tee-sklaven-wehren-sich-18245988.html\n",
      "not\n",
      "not\n",
      "not\n",
      "https://www.faz.net/suche/winterspiele-in-peking-arif-khan-einziger-inder-bei-olympia-17796731.html\n",
      "not\n",
      "not\n",
      "not\n",
      "https://www.faz.net/suche/kommentar-zur-wm-vorbereitung-2022-sterben-in-qatar-17213158.html\n",
      "not\n",
      "not\n",
      "not\n",
      "https://www.faz.net/premiumContent?contentId=1.7177913\n",
      "not\n",
      "not\n",
      "not\n",
      "https://www.faz.net/suche/wirtschaften-in-corona-zeiten-keine-schonzeit-fuer-unternehmen-16987630.html\n",
      "not\n",
      "not\n",
      "not\n",
      "https://www.faz.net/suche/laendervergleich-koennen-lieferkettengesetze-funktionieren-16942437.html\n",
      "not\n",
      "not\n",
      "not\n"
     ]
    }
   ],
   "source": [
    "a = soup.find(\"ul\", class_=\"lst-Teaser js-lst-Teaser\").find_all(\"li\")\n",
    "for a in a:\n",
    "    try:\n",
    "        print(a.find(\"a\", class_=\"js-hlp-LinkSwap js-tsr-Base_ContentLink tsr-Base_ContentLink\").get(\"href\"))\n",
    "    except:\n",
    "        print(\"not\")"
   ]
  },
  {
   "cell_type": "code",
   "execution_count": null,
   "id": "786c2106",
   "metadata": {},
   "outputs": [],
   "source": []
  }
 ],
 "metadata": {
  "kernelspec": {
   "display_name": "Python 3 (ipykernel)",
   "language": "python",
   "name": "python3"
  },
  "language_info": {
   "codemirror_mode": {
    "name": "ipython",
    "version": 3
   },
   "file_extension": ".py",
   "mimetype": "text/x-python",
   "name": "python",
   "nbconvert_exporter": "python",
   "pygments_lexer": "ipython3",
   "version": "3.10.12"
  }
 },
 "nbformat": 4,
 "nbformat_minor": 5
}
